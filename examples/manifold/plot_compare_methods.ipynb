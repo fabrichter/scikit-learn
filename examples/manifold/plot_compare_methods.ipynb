{
 "cells": [
  {
   "cell_type": "code",
   "execution_count": 1,
   "metadata": {
    "collapsed": false
   },
   "outputs": [
    {
     "name": "stdout",
     "output_type": "stream",
     "text": [
      "\n",
      "=========================================\n",
      " Comparison of Manifold Learning methods\n",
      "=========================================\n",
      "\n",
      "An illustration of dimensionality reduction on the S-curve dataset\n",
      "with various manifold learning methods.\n",
      "\n",
      "For a discussion and comparison of these algorithms, see the\n",
      ":ref:`manifold module page <manifold>`\n",
      "\n",
      "For a similar example, where the methods are applied to a\n",
      "sphere dataset, see :ref:`sphx_glr_auto_examples_manifold_plot_manifold_sphere.py`\n",
      "\n",
      "Note that the purpose of the MDS is to find a low-dimensional\n",
      "representation of the data (here 2D) in which the distances respect well\n",
      "the distances in the original high-dimensional space, unlike other\n",
      "manifold-learning algorithms, it does not seeks an isotropic\n",
      "representation of the data in the low-dimensional space.\n",
      "\n"
     ]
    },
    {
     "data": {
      "image/png": "[encoded data removed]",
      "text/plain": [
       "<matplotlib.figure.Figure at 0x7f5a52d91518>"
      ]
     },
     "metadata": {},
     "output_type": "display_data"
    }
   ],
   "source": [
    "\"\"\"\n",
    "=========================================\n",
    " Comparison of Manifold Learning methods\n",
    "=========================================\n",
    "\n",
    "An illustration of dimensionality reduction on the S-curve dataset\n",
    "with various manifold learning methods.\n",
    "\n",
    "For a discussion and comparison of these algorithms, see the\n",
    ":ref:`manifold module page <manifold>`\n",
    "\n",
    "For a similar example, where the methods are applied to a\n",
    "sphere dataset, see :ref:`sphx_glr_auto_examples_manifold_plot_manifold_sphere.py`\n",
    "\n",
    "Note that the purpose of the MDS is to find a low-dimensional\n",
    "representation of the data (here 2D) in which the distances respect well\n",
    "the distances in the original high-dimensional space, unlike other\n",
    "manifold-learning algorithms, it does not seeks an isotropic\n",
    "representation of the data in the low-dimensional space.\n",
    "\"\"\"\n",
    "\n",
    "# Author: Jake Vanderplas -- <vanderplas@astro.washington.edu>\n",
    "\n",
    "print(__doc__)\n",
    "\n",
    "from time import time\n",
    "\n",
    "import matplotlib.pyplot as plt\n",
    "from mpl_toolkits.mplot3d import Axes3D\n",
    "from matplotlib.ticker import NullFormatter\n",
    "%load_ext Cython\n",
    "\n",
    "from sklearn import manifold, datasets\n",
    "from sklearn.manifold.forests import ManifoldForest\n",
    "\n",
    "# Next line to silence pyflakes. This import is needed.\n",
    "Axes3D\n",
    "\n",
    "n_points = 1000\n",
    "X, color = datasets.samples_generator.make_swiss_roll(n_points, random_state=0)\n",
    "n_neighbors = 10\n",
    "n_components = 2\n",
    "\n",
    "fig = plt.figure(figsize=(15, 8))\n",
    "plt.suptitle(\"Manifold Learning with %i points, %i neighbors\"\n",
    "             % (1000, n_neighbors), fontsize=14)\n",
    "\n",
    "\n",
    "ax = fig.add_subplot(251, projection='3d')\n",
    "ax.scatter(X[:, 0], X[:, 1], X[:, 2], c=color, cmap=plt.cm.Spectral)\n",
    "ax.view_init(4, -72)\n",
    "\n",
    "plt.show() \n"
   ]
  },
  {
   "cell_type": "code",
   "execution_count": 2,
   "metadata": {
    "collapsed": false,
    "scrolled": false
   },
   "outputs": [
    {
     "name": "stdout",
     "output_type": "stream",
     "text": [
      "[[ -8.85708287  12.45048569  -4.38885338]\n",
      " [  5.0569229    0.21133761 -10.2760021 ]\n",
      " [ -5.88799247   9.99235011  -8.56459157]]\n",
      "Entropy of data from 0 to 1000 = 32.020633697509766\n",
      "Split at 493\n",
      "Node value: 0 = 493, 1 = 508\n",
      "Entropy of data from 0 to 1000 = 32.020633697509766\n",
      "Split at 493\n",
      "Node value: 0 = 493, 1 = 508\n",
      "Entropy of data from 0 to 1000 = 32.020633697509766\n",
      "Split at 493\n",
      "Node value: 0 = 493, 1 = 508\n",
      "Entropy of data from 0 to 1000 = 32.020633697509766\n",
      "Split at 493\n",
      "Node value: 0 = 493, 1 = 508\n",
      "Entropy of data from 0 to 1000 = 32.020633697509766\n",
      "Split at 493\n",
      "Node value: 0 = 493, 1 = 508\n",
      "Entropy of data from 0 to 1000 = 32.020633697509766\n",
      "Split at 493\n",
      "Node value: 0 = 493, 1 = 508\n",
      "Entropy of data from 0 to 1000 = 32.020633697509766\n",
      "Split at 493\n",
      "Node value: 0 = 493, 1 = 508\n",
      "Entropy of data from 0 to 1000 = 32.020633697509766\n",
      "Split at 493\n",
      "Node value: 0 = 493, 1 = 508\n",
      "Entropy of data from 0 to 1000 = 32.020633697509766\n",
      "Split at 493\n",
      "Node value: 0 = 493, 1 = 508\n",
      "Entropy of data from 0 to 1000 = 32.020633697509766\n",
      "Split at 493\n",
      "Node value: 0 = 493, 1 = 508\n",
      "  (0, 9)\t1.0\n",
      "  (0, 8)\t1.0\n",
      "  (0, 7)\t1.0\n",
      "  (0, 6)\t1.0\n",
      "  (0, 5)\t1.0\n",
      "  (0, 4)\t1.0\n",
      "  (0, 3)\t1.0\n",
      "  (0, 2)\t1.0\n",
      "  (0, 1)\t1.0\n",
      "  (0, 0)\t1.0\n",
      "  (1, 9)\t1.0\n",
      "  (1, 8)\t1.0\n",
      "  (1, 7)\t1.0\n",
      "  (1, 6)\t1.0\n",
      "  (1, 5)\t1.0\n",
      "  (1, 4)\t1.0\n",
      "  (1, 3)\t1.0\n",
      "  (1, 2)\t1.0\n",
      "  (1, 1)\t1.0\n",
      "  (1, 0)\t1.0\n",
      "  (2, 9)\t1.0\n",
      "  (2, 8)\t1.0\n",
      "  (2, 7)\t1.0\n",
      "  (2, 6)\t1.0\n",
      "  (2, 5)\t1.0\n",
      "  :\t:\n",
      "  (997, 4)\t1.0\n",
      "  (997, 3)\t1.0\n",
      "  (997, 2)\t1.0\n",
      "  (997, 1)\t1.0\n",
      "  (997, 0)\t1.0\n",
      "  (998, 9)\t1.0\n",
      "  (998, 8)\t1.0\n",
      "  (998, 7)\t1.0\n",
      "  (998, 6)\t1.0\n",
      "  (998, 5)\t1.0\n",
      "  (998, 4)\t1.0\n",
      "  (998, 3)\t1.0\n",
      "  (998, 2)\t1.0\n",
      "  (998, 1)\t1.0\n",
      "  (998, 0)\t1.0\n",
      "  (999, 9)\t1.0\n",
      "  (999, 8)\t1.0\n",
      "  (999, 7)\t1.0\n",
      "  (999, 6)\t1.0\n",
      "  (999, 5)\t1.0\n",
      "  (999, 4)\t1.0\n",
      "  (999, 3)\t1.0\n",
      "  (999, 2)\t1.0\n",
      "  (999, 1)\t1.0\n",
      "  (999, 0)\t1.0\n",
      "  (0, 9)\t1.0\n",
      "  (0, 8)\t1.0\n",
      "  (0, 7)\t1.0\n",
      "  (0, 6)\t1.0\n",
      "  (0, 5)\t1.0\n",
      "  (0, 4)\t1.0\n",
      "  (0, 3)\t1.0\n",
      "  (0, 2)\t1.0\n",
      "  (0, 1)\t1.0\n",
      "  (0, 0)\t1.0\n",
      "  (1, 9)\t1.0\n",
      "  (1, 8)\t1.0\n",
      "  (1, 7)\t1.0\n",
      "  (1, 6)\t1.0\n",
      "  (1, 5)\t1.0\n",
      "  (1, 4)\t1.0\n",
      "  (1, 3)\t1.0\n",
      "  (1, 2)\t1.0\n",
      "  (1, 1)\t1.0\n",
      "  (1, 0)\t1.0\n",
      "  (2, 9)\t1.0\n",
      "  (2, 8)\t1.0\n",
      "  (2, 7)\t1.0\n",
      "  (2, 6)\t1.0\n",
      "  (2, 5)\t1.0\n",
      "  :\t:\n",
      "  (997, 4)\t1.0\n",
      "  (997, 3)\t1.0\n",
      "  (997, 2)\t1.0\n",
      "  (997, 1)\t1.0\n",
      "  (997, 0)\t1.0\n",
      "  (998, 9)\t1.0\n",
      "  (998, 8)\t1.0\n",
      "  (998, 7)\t1.0\n",
      "  (998, 6)\t1.0\n",
      "  (998, 5)\t1.0\n",
      "  (998, 4)\t1.0\n",
      "  (998, 3)\t1.0\n",
      "  (998, 2)\t1.0\n",
      "  (998, 1)\t1.0\n",
      "  (998, 0)\t1.0\n",
      "  (999, 9)\t1.0\n",
      "  (999, 8)\t1.0\n",
      "  (999, 7)\t1.0\n",
      "  (999, 6)\t1.0\n",
      "  (999, 5)\t1.0\n",
      "  (999, 4)\t1.0\n",
      "  (999, 3)\t1.0\n",
      "  (999, 2)\t1.0\n",
      "  (999, 1)\t1.0\n",
      "  (999, 0)\t1.0\n"
     ]
    }
   ],
   "source": [
    "plt.figure()\n",
    "t0 = time()\n",
    "mf = ManifoldForest(n_estimators=10, max_depth=4)\n",
    "print(X[:3])\n",
    "W = mf.fit_transform(X)\n",
    "print(W)\n",
    "# tsne = manifold.SpectralEmbedding(n_components=1, affinity='precomputed', random_state=0)\n",
    "# Y = tsne.fit_transform(W)\n",
    "# t1 = time()\n",
    "# print(\"Manifold forests & t-SNE: %.2g sec\" % (t1 - t0))\n",
    "# fig = plt.figure(figsize=(15, 8))\n",
    "# plt.suptitle(\"Manifold Learning with %i points, %i neighbors\"\n",
    "#              % (1000, n_neighbors), fontsize=14)\n",
    "\n",
    "\n",
    "# ax = fig.add_subplot(251, projection='3d')\n",
    "# ax.scatter(X[:, 0], X[:, 1], X[:, 2], c=Y, cmap=plt.cm.Spectral)\n",
    "# ax.view_init(4, -72)\n",
    "\n",
    "# plt.show() "
   ]
  },
  {
   "cell_type": "code",
   "execution_count": 3,
   "metadata": {
    "collapsed": false
   },
   "outputs": [
    {
     "name": "stdout",
     "output_type": "stream",
     "text": [
      "  (0, 9)\t1.0\n",
      "  (0, 8)\t1.0\n",
      "  (0, 7)\t1.0\n",
      "  (0, 6)\t1.0\n",
      "  (0, 5)\t1.0\n",
      "  (0, 4)\t1.0\n",
      "  (0, 3)\t1.0\n",
      "  (0, 2)\t1.0\n",
      "  (0, 1)\t1.0\n",
      "  (0, 0)\t1.0\n"
     ]
    }
   ],
   "source": [
    "print(W[0])"
   ]
  },
  {
   "cell_type": "code",
   "execution_count": 4,
   "metadata": {
    "collapsed": true
   },
   "outputs": [],
   "source": [
    "from sklearn.tree import DecisionTreeClassifier\n",
    "import numpy as np\n",
    "\n",
    "a = DecisionTreeClassifier(splitter=\"gaussian\")"
   ]
  },
  {
   "cell_type": "code",
   "execution_count": 9,
   "metadata": {
    "collapsed": false
   },
   "outputs": [
    {
     "name": "stdout",
     "output_type": "stream",
     "text": [
      "Entropy of data from 0 to 1000 = 32.020633697509766\n",
      "Split at 493\n",
      "Node value: 0 = 493, 1 = 508\n"
     ]
    },
    {
     "data": {
      "text/plain": [
       "DecisionTreeClassifier(class_weight=None, criterion='gini', max_depth=None,\n",
       "            max_features=None, max_leaf_nodes=None,\n",
       "            min_impurity_decrease=0.0, min_impurity_split=None,\n",
       "            min_samples_leaf=1, min_samples_split=2,\n",
       "            min_weight_fraction_leaf=0.0, presort=False, random_state=None,\n",
       "            splitter='gaussian')"
      ]
     },
     "execution_count": 9,
     "metadata": {},
     "output_type": "execute_result"
    }
   ],
   "source": [
    "a.fit(X, np.random.randint(2, size=X.shape[0]))"
   ]
  },
  {
   "cell_type": "code",
   "execution_count": 11,
   "metadata": {
    "collapsed": false
   },
   "outputs": [
    {
     "data": {
      "text/plain": [
       "array([0, 0, 0, 0, 0, 0, 0, 0, 0, 0, 0, 0, 0, 0, 0, 0, 0, 0, 0, 0, 0, 0, 0,\n",
       "       0, 0, 0, 0, 0, 0, 0, 0, 0, 0, 0, 0, 0, 0, 0, 0, 0, 0, 0, 0, 0, 0, 0,\n",
       "       0, 0, 0, 0, 0, 0, 0, 0, 0, 0, 0, 0, 0, 0, 0, 0, 0, 0, 0, 0, 0, 0, 0,\n",
       "       0, 0, 0, 0, 0, 0, 0, 0, 0, 0, 0, 0, 0, 0, 0, 0, 0, 0, 0, 0, 0, 0, 0,\n",
       "       0, 0, 0, 0, 0, 0, 0, 0, 0, 0, 0, 0, 0, 0, 0, 0, 0, 0, 0, 0, 0, 0, 0,\n",
       "       0, 0, 0, 0, 0, 0, 0, 0, 0, 0, 0, 0, 0, 0, 0, 0, 0, 0, 0, 0, 0, 0, 0,\n",
       "       0, 0, 0, 0, 0, 0, 0, 0, 0, 0, 0, 0, 0, 0, 0, 0, 0, 0, 0, 0, 0, 0, 0,\n",
       "       0, 0, 0, 0, 0, 0, 0, 0, 0, 0, 0, 0, 0, 0, 0, 0, 0, 0, 0, 0, 0, 0, 0,\n",
       "       0, 0, 0, 0, 0, 0, 0, 0, 0, 0, 0, 0, 0, 0, 0, 0, 0, 0, 0, 0, 0, 0, 0,\n",
       "       0, 0, 0, 0, 0, 0, 0, 0, 0, 0, 0, 0, 0, 0, 0, 0, 0, 0, 0, 0, 0, 0, 0,\n",
       "       0, 0, 0, 0, 0, 0, 0, 0, 0, 0, 0, 0, 0, 0, 0, 0, 0, 0, 0, 0, 0, 0, 0,\n",
       "       0, 0, 0, 0, 0, 0, 0, 0, 0, 0, 0, 0, 0, 0, 0, 0, 0, 0, 0, 0, 0, 0, 0,\n",
       "       0, 0, 0, 0, 0, 0, 0, 0, 0, 0, 0, 0, 0, 0, 0, 0, 0, 0, 0, 0, 0, 0, 0,\n",
       "       0, 0, 0, 0, 0, 0, 0, 0, 0, 0, 0, 0, 0, 0, 0, 0, 0, 0, 0, 0, 0, 0, 0,\n",
       "       0, 0, 0, 0, 0, 0, 0, 0, 0, 0, 0, 0, 0, 0, 0, 0, 0, 0, 0, 0, 0, 0, 0,\n",
       "       0, 0, 0, 0, 0, 0, 0, 0, 0, 0, 0, 0, 0, 0, 0, 0, 0, 0, 0, 0, 0, 0, 0,\n",
       "       0, 0, 0, 0, 0, 0, 0, 0, 0, 0, 0, 0, 0, 0, 0, 0, 0, 0, 0, 0, 0, 0, 0,\n",
       "       0, 0, 0, 0, 0, 0, 0, 0, 0, 0, 0, 0, 0, 0, 0, 0, 0, 0, 0, 0, 0, 0, 0,\n",
       "       0, 0, 0, 0, 0, 0, 0, 0, 0, 0, 0, 0, 0, 0, 0, 0, 0, 0, 0, 0, 0, 0, 0,\n",
       "       0, 0, 0, 0, 0, 0, 0, 0, 0, 0, 0, 0, 0, 0, 0, 0, 0, 0, 0, 0, 0, 0, 0,\n",
       "       0, 0, 0, 0, 0, 0, 0, 0, 0, 0, 0, 0, 0, 0, 0, 0, 0, 0, 0, 0, 0, 0, 0,\n",
       "       0, 0, 0, 0, 0, 0, 0, 0, 0, 0, 0, 0, 0, 0, 0, 0, 0, 0, 0, 0, 0, 0, 0,\n",
       "       0, 0, 0, 0, 0, 0, 0, 0, 0, 0, 0, 0, 0, 0, 0, 0, 0, 0, 0, 0, 0, 0, 0,\n",
       "       0, 0, 0, 0, 0, 0, 0, 0, 0, 0, 0, 0, 0, 0, 0, 0, 0, 0, 0, 0, 0, 0, 0,\n",
       "       0, 0, 0, 0, 0, 0, 0, 0, 0, 0, 0, 0, 0, 0, 0, 0, 0, 0, 0, 0, 0, 0, 0,\n",
       "       0, 0, 0, 0, 0, 0, 0, 0, 0, 0, 0, 0, 0, 0, 0, 0, 0, 0, 0, 0, 0, 0, 0,\n",
       "       0, 0, 0, 0, 0, 0, 0, 0, 0, 0, 0, 0, 0, 0, 0, 0, 0, 0, 0, 0, 0, 0, 0,\n",
       "       0, 0, 0, 0, 0, 0, 0, 0, 0, 0, 0, 0, 0, 0, 0, 0, 0, 0, 0, 0, 0, 0, 0,\n",
       "       0, 0, 0, 0, 0, 0, 0, 0, 0, 0, 0, 0, 0, 0, 0, 0, 0, 0, 0, 0, 0, 0, 0,\n",
       "       0, 0, 0, 0, 0, 0, 0, 0, 0, 0, 0, 0, 0, 0, 0, 0, 0, 0, 0, 0, 0, 0, 0,\n",
       "       0, 0, 0, 0, 0, 0, 0, 0, 0, 0, 0, 0, 0, 0, 0, 0, 0, 0, 0, 0, 0, 0, 0,\n",
       "       0, 0, 0, 0, 0, 0, 0, 0, 0, 0, 0, 0, 0, 0, 0, 0, 0, 0, 0, 0, 0, 0, 0,\n",
       "       0, 0, 0, 0, 0, 0, 0, 0, 0, 0, 0, 0, 0, 0, 0, 0, 0, 0, 0, 0, 0, 0, 0,\n",
       "       0, 0, 0, 0, 0, 0, 0, 0, 0, 0, 0, 0, 0, 0, 0, 0, 0, 0, 0, 0, 0, 0, 0,\n",
       "       0, 0, 0, 0, 0, 0, 0, 0, 0, 0, 0, 0, 0, 0, 0, 0, 0, 0, 0, 0, 0, 0, 0,\n",
       "       0, 0, 0, 0, 0, 0, 0, 0, 0, 0, 0, 0, 0, 0, 0, 0, 0, 0, 0, 0, 0, 0, 0,\n",
       "       0, 0, 0, 0, 0, 0, 0, 0, 0, 0, 0, 0, 0, 0, 0, 0, 0, 0, 0, 0, 0, 0, 0,\n",
       "       0, 0, 0, 0, 0, 0, 0, 0, 0, 0, 0, 0, 0, 0, 0, 0, 0, 0, 0, 0, 0, 0, 0,\n",
       "       0, 0, 0, 0, 0, 0, 0, 0, 0, 0, 0, 0, 0, 0, 0, 0, 0, 0, 0, 0, 0, 0, 0,\n",
       "       0, 0, 0, 0, 0, 0, 0, 0, 0, 0, 0, 0, 0, 0, 0, 0, 0, 0, 0, 0, 0, 0, 0,\n",
       "       0, 0, 0, 0, 0, 0, 0, 0, 0, 0, 0, 0, 0, 0, 0, 0, 0, 0, 0, 0, 0, 0, 0,\n",
       "       0, 0, 0, 0, 0, 0, 0, 0, 0, 0, 0, 0, 0, 0, 0, 0, 0, 0, 0, 0, 0, 0, 0,\n",
       "       0, 0, 0, 0, 0, 0, 0, 0, 0, 0, 0, 0, 0, 0, 0, 0, 0, 0, 0, 0, 0, 0, 0,\n",
       "       0, 0, 0, 0, 0, 0, 0, 0, 0, 0, 0])"
      ]
     },
     "execution_count": 11,
     "metadata": {},
     "output_type": "execute_result"
    }
   ],
   "source": [
    "a.apply(X)"
   ]
  },
  {
   "cell_type": "code",
   "execution_count": 7,
   "metadata": {
    "collapsed": false
   },
   "outputs": [
    {
     "name": "stdout",
     "output_type": "stream",
     "text": [
      "The Cython extension is already loaded. To reload it, use:\n",
      "  %reload_ext Cython\n"
     ]
    }
   ],
   "source": [
    "%load_ext Cython"
   ]
  },
  {
   "cell_type": "code",
   "execution_count": 8,
   "metadata": {
    "collapsed": false
   },
   "outputs": [
    {
     "name": "stdout",
     "output_type": "stream",
     "text": [
      "5.0\n",
      "1.0\n"
     ]
    }
   ],
   "source": [
    "%%cython\n",
    "\n",
    "cimport numpy as np\n",
    "import numpy as np\n",
    "from cpython cimport array\n",
    "np.import_array()\n",
    "\n",
    "cdef double* test(double* X):\n",
    "    cdef np.npy_intp[2] dims = [2, 3]\n",
    "    cdef np.ndarray a = np.PyArray_SimpleNewFromData(2, dims, np.NPY_DOUBLE, X)\n",
    "#     a = np.reshape(a, (2, 3))\n",
    "    print(a[1][2])\n",
    "    return &X[1]\n",
    "\n",
    "cdef double det():\n",
    "    cdef np.ndarray[np.double_t, ndim=2, mode=\"c\"] a = np.array([[0,1,2], [3,4,5]], dtype=np.float)\n",
    "    cdef double* b\n",
    "    b = test(&a[0,0])\n",
    "    return b[0]\n",
    "\n",
    "print(det())"
   ]
  },
  {
   "cell_type": "code",
   "execution_count": null,
   "metadata": {
    "collapsed": true
   },
   "outputs": [],
   "source": []
  }
 ],
 "metadata": {
  "kernelspec": {
   "display_name": "Python 3",
   "language": "python",
   "name": "python3"
  },
  "language_info": {
   "codemirror_mode": {
    "name": "ipython",
    "version": 3
   },
   "file_extension": ".py",
   "mimetype": "text/x-python",
   "name": "python",
   "nbconvert_exporter": "python",
   "pygments_lexer": "ipython3",
   "version": "3.5.1"
  }
 },
 "nbformat": 4,
 "nbformat_minor": 2
}
