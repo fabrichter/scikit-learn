{
 "cells": [
  {
   "cell_type": "code",
   "execution_count": null,
   "metadata": {},
   "outputs": [],
   "source": [
    "\"\"\"\n",
    "=========================================\n",
    " Comparison of Manifold Learning methods\n",
    "=========================================\n",
    "\n",
    "An illustration of dimensionality reduction on the S-curve dataset\n",
    "with various manifold learning methods.\n",
    "\n",
    "For a discussion and comparison of these algorithms, see the\n",
    ":ref:`manifold module page <manifold>`\n",
    "\n",
    "For a similar example, where the methods are applied to a\n",
    "sphere dataset, see :ref:`sphx_glr_auto_examples_manifold_plot_manifold_sphere.py`\n",
    "\n",
    "Note that the purpose of the MDS is to find a low-dimensional\n",
    "representation of the data (here 2D) in which the distances respect well\n",
    "the distances in the original high-dimensional space, unlike other\n",
    "manifold-learning algorithms, it does not seeks an isotropic\n",
    "representation of the data in the low-dimensional space.\n",
    "\"\"\"\n",
    "\n",
    "# Author: Jake Vanderplas -- <vanderplas@astro.washington.edu>\n",
    "\n",
    "\n",
    "from time import time\n",
    "\n",
    "import matplotlib.pyplot as plt\n",
    "from mpl_toolkits.mplot3d import Axes3D\n",
    "from matplotlib.ticker import NullFormatter\n",
    "%load_ext Cython\n",
    "\n",
    "from sklearn import manifold, datasets\n",
    "from sklearn.manifold.forests import ManifoldForest\n",
    "\n",
    "# Next line to silence pyflakes. This import is needed.\n",
    "Axes3D\n",
    "\n",
    "n_points = 1000\n",
    "X, color = datasets.samples_generator.make_swiss_roll(n_points, random_state=0)\n",
    "n_neighbors = 10\n",
    "n_components = 2\n",
    "\n",
    "fig = plt.figure(figsize=(15, 8))\n",
    "plt.suptitle(\"Manifold Learning with %i points, %i neighbors\"\n",
    "             % (1000, n_neighbors), fontsize=14)\n",
    "\n",
    "\n",
    "ax = fig.add_subplot(251, projection='3d')\n",
    "ax.scatter(X[:, 0], X[:, 1], X[:, 2], c=color, cmap=plt.cm.Spectral)\n",
    "ax.view_init(4, -72)\n",
    "\n",
    "plt.show() \n"
   ]
  },
  {
   "cell_type": "code",
   "execution_count": null,
   "metadata": {
    "collapsed": false,
    "scrolled": false
   },
   "outputs": [],
   "source": [
    "plt.figure()\n",
    "t0 = time()\n",
    "mf = ManifoldForest(n_estimators=100, affinity_metric='gaussian', affinity_epsilon=2.3, max_depth=4, n_jobs=-1)\n",
    "mf.fit(X)\n",
    "t1 = time()\n",
    "print(\"Manifold forests: %.2g sec\" % (t1 - t0))\n",
    "W = mf.transform(X)\n",
    "t1 = time()\n",
    "print(\"Manifold forests & Affinity matrix: %.2g sec\" % (t1 - t0))\n",
    "tsne = manifold.SpectralEmbedding(n_components=1, affinity='precomputed', random_state=0)\n",
    "Y = tsne.fit_transform(W)\n",
    "t1 = time()\n",
    "print(\"Manifold forests & t-SNE: %.2g sec\" % (t1 - t0))\n",
    "fig = plt.figure(figsize=(15, 8))\n",
    "plt.suptitle(\"Manifold Learning with %i points, %i neighbors\"\n",
    "             % (1000, n_neighbors), fontsize=14)\n",
    "\n",
    "\n",
    "ax = fig.add_subplot(111, projection='3d')\n",
    "ax.scatter(X[:, 0], X[:, 1], X[:, 2], c=Y, cmap=plt.cm.Spectral)\n",
    "ax.view_init(4, -72)\n",
    "\n",
    "plt.show() "
   ]
  }
 ],
 "metadata": {
  "kernelspec": {
   "display_name": "Python 3",
   "language": "python",
   "name": "python3"
  },
  "language_info": {
   "codemirror_mode": {
    "name": "ipython",
    "version": 3
   },
   "file_extension": ".py",
   "mimetype": "text/x-python",
   "name": "python",
   "nbconvert_exporter": "python",
   "pygments_lexer": "ipython3",
   "version": "3.5.1"
  }
 },
 "nbformat": 4,
 "nbformat_minor": 2
}
